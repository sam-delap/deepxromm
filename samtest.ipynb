{
 "cells": [
  {
   "cell_type": "code",
   "execution_count": 1,
   "metadata": {},
   "outputs": [
    {
     "name": "stdout",
     "output_type": "stream",
     "text": [
      "Loading DLC 2.2.3...\n"
     ]
    },
    {
     "name": "stderr",
     "output_type": "stream",
     "text": [
      "c:\\Users\\sjcde\\.conda\\envs\\DEEPLABCUT\\lib\\site-packages\\deeplabcut\\__init__.py:81: UserWarning: \n",
      "        As PyTorch is not installed, unsupervised identity learning will not be available.\n",
      "        Please run `pip install torch`, or ignore this warning.\n",
      "        \n",
      "  warnings.warn(\n"
     ]
    }
   ],
   "source": [
    "import samtools\n",
    "# working_dir = 'C:/Users/Samuel_DeLap.UMLADCO/Documents/DeLap/AxoChewing'\n",
    "working_dir = 'C:/Users/sjcde/OneDrive/Documents/AxoChewing/'"
   ]
  },
  {
   "cell_type": "code",
   "execution_count": 2,
   "metadata": {},
   "outputs": [
    {
     "name": "stdout",
     "output_type": "stream",
     "text": [
      "1600.0\n"
     ]
    },
    {
     "ename": "UnboundLocalError",
     "evalue": "local variable 'subimage_float' referenced before assignment",
     "output_type": "error",
     "traceback": [
      "\u001b[1;31m---------------------------------------------------------------------------\u001b[0m",
      "\u001b[1;31mUnboundLocalError\u001b[0m                         Traceback (most recent call last)",
      "Cell \u001b[1;32mIn [2], line 1\u001b[0m\n\u001b[1;32m----> 1\u001b[0m samtools\u001b[39m.\u001b[39;49mautocorrect(working_dir, threshold\u001b[39m=\u001b[39;49m\u001b[39m5\u001b[39;49m)\n",
      "File \u001b[1;32mc:\\Users\\sjcde\\OneDrive\\Documents\\deadROMM-tools\\samtools.py:189\u001b[0m, in \u001b[0;36mautocorrect\u001b[1;34m(working_dir, likelihood_cutoff, search_area, mask_size, threshold)\u001b[0m\n\u001b[0;32m    187\u001b[0m radius \u001b[39m=\u001b[39m \u001b[39mint\u001b[39m(\u001b[39m1.5\u001b[39m \u001b[39m*\u001b[39m \u001b[39m2\u001b[39m \u001b[39m+\u001b[39m \u001b[39m0.5\u001b[39m) \u001b[39m#5 might be too high\u001b[39;00m\n\u001b[0;32m    188\u001b[0m sigma \u001b[39m=\u001b[39m radius \u001b[39m*\u001b[39m math\u001b[39m.\u001b[39msqrt(\u001b[39m2\u001b[39m \u001b[39m*\u001b[39m math\u001b[39m.\u001b[39mlog(\u001b[39m255\u001b[39m)) \u001b[39m-\u001b[39m \u001b[39m1\u001b[39m\n\u001b[1;32m--> 189\u001b[0m subimage_blurred \u001b[39m=\u001b[39m cv2\u001b[39m.\u001b[39mGaussianBlur(subimage_float, (\u001b[39m2\u001b[39m \u001b[39m*\u001b[39m radius \u001b[39m+\u001b[39m \u001b[39m1\u001b[39m, radius \u001b[39m+\u001b[39m \u001b[39m1\u001b[39m), sigma)\n\u001b[0;32m    190\u001b[0m \u001b[39m# Subtract Background\u001b[39;00m\n\u001b[0;32m    191\u001b[0m subimage_diff \u001b[39m=\u001b[39m subimage_float\u001b[39m-\u001b[39msubimage_blurred\n",
      "\u001b[1;31mUnboundLocalError\u001b[0m: local variable 'subimage_float' referenced before assignment"
     ]
    }
   ],
   "source": [
    "samtools.autocorrect(working_dir, threshold=5)"
   ]
  },
  {
   "cell_type": "code",
   "execution_count": 3,
   "metadata": {},
   "outputs": [],
   "source": [
    "# Vars and imports\n",
    "import cv2\n",
    "import math\n",
    "import pandas as pd\n",
    "import numpy as np\n",
    "frame = cv2.imread('sample_frame.jpg')\n",
    "new_data_path = working_dir +'/trials'\n",
    "trial = '22JUL2021_Axo18_t04_c_strikeNchews'\n",
    "iteration = 0\n",
    "search_area = 15\n",
    "cam = 'cam1'\n",
    "hdf = pd.read_hdf(new_data_path + '/' + trial + '/' + 'it' + str(iteration) + '/' + trial + '-Predicted2DPoints.h5')"
   ]
  },
  {
   "cell_type": "code",
   "execution_count": 6,
   "metadata": {},
   "outputs": [
    {
     "ename": "error",
     "evalue": "OpenCV(4.6.0) D:\\a\\opencv-python\\opencv-python\\opencv\\modules\\imgproc\\src\\smooth.dispatch.cpp:294: error: (-215:Assertion failed) ksize.width > 0 && ksize.width % 2 == 1 && ksize.height > 0 && ksize.height % 2 == 1 in function 'cv::createGaussianKernels'\n",
     "output_type": "error",
     "traceback": [
      "\u001b[1;31m---------------------------------------------------------------------------\u001b[0m",
      "\u001b[1;31merror\u001b[0m                                     Traceback (most recent call last)",
      "Cell \u001b[1;32mIn [6], line 23\u001b[0m\n\u001b[0;32m     21\u001b[0m radius \u001b[39m=\u001b[39m \u001b[39mint\u001b[39m(\u001b[39m1.5\u001b[39m \u001b[39m*\u001b[39m \u001b[39m2\u001b[39m \u001b[39m+\u001b[39m \u001b[39m0.5\u001b[39m) \u001b[39m#5 might be too high\u001b[39;00m\n\u001b[0;32m     22\u001b[0m sigma \u001b[39m=\u001b[39m radius \u001b[39m*\u001b[39m math\u001b[39m.\u001b[39msqrt(\u001b[39m2\u001b[39m \u001b[39m*\u001b[39m math\u001b[39m.\u001b[39mlog(\u001b[39m255\u001b[39m)) \u001b[39m-\u001b[39m \u001b[39m1\u001b[39m\n\u001b[1;32m---> 23\u001b[0m subimage_blurred \u001b[39m=\u001b[39m cv2\u001b[39m.\u001b[39;49mGaussianBlur(subimage_float, (\u001b[39m2\u001b[39;49m \u001b[39m*\u001b[39;49m radius \u001b[39m+\u001b[39;49m \u001b[39m1\u001b[39;49m, radius \u001b[39m+\u001b[39;49m \u001b[39m1\u001b[39;49m), sigma)\n\u001b[0;32m     24\u001b[0m \u001b[39m# Subtract Background\u001b[39;00m\n\u001b[0;32m     25\u001b[0m subimage_diff \u001b[39m=\u001b[39m subimage_float\u001b[39m-\u001b[39msubimage_blurred\n",
      "\u001b[1;31merror\u001b[0m: OpenCV(4.6.0) D:\\a\\opencv-python\\opencv-python\\opencv\\modules\\imgproc\\src\\smooth.dispatch.cpp:294: error: (-215:Assertion failed) ksize.width > 0 && ksize.width % 2 == 1 && ksize.height > 0 && ksize.height % 2 == 1 in function 'cv::createGaussianKernels'\n"
     ]
    }
   ],
   "source": [
    "# Image processing\n",
    "frame = samtools.filter_image(frame, krad=10)\n",
    "# For each marker in the frame\n",
    "parts_unique = samtools.getBodypartsFromXmaExport(working_dir)\n",
    "# DEBUG\n",
    "for part in parts_unique:\n",
    "    # Find point and offsets\n",
    "    x_float = hdf.loc[0, part + '_' + cam + '_X']\n",
    "    y_float = hdf.loc[0, part + '_' + cam + '_Y']\n",
    "    x_start = int(x_float-search_area+0.5)\n",
    "    y_start = int(y_float-search_area+0.5)\n",
    "    x_end = int(x_float+search_area+0.5)\n",
    "    y_end = int(y_float+search_area+0.5)\n",
    "\n",
    "    # Preprocessing\n",
    "    # Crop image to marker vicinity\n",
    "    subimage = frame[y_start:y_end, x_start:x_end]\n",
    "    # Convert To float\n",
    "    subimage_float = subimage.astype(np.float32)\n",
    "    # Blurred image\n",
    "    radius = int(1.5 * 2 + 0.5) #5 might be too high\n",
    "    sigma = radius * math.sqrt(2 * math.log(255)) - 1\n",
    "    subimage_blurred = cv2.GaussianBlur(subimage_float, (2 * radius + 1, radius + 1), sigma)\n",
    "    # Subtract Background\n",
    "    subimage_diff = subimage_float-subimage_blurred\n",
    "    subimage_diff = cv2.normalize(subimage_diff, None, 0,255,cv2.NORM_MINMAX).astype(np.uint8)\n",
    "    # Median\n",
    "    subimage_median = cv2.medianBlur(subimage_diff, 3)\n",
    "    # LUT\n",
    "    subimage_median = samtools.filter_image(subimage_median, krad=3)\n",
    "\n",
    "    # Convert to grayscale\n",
    "    gray = cv2.cvtColor(subimage_float, cv2.COLOR_BGR2GRAY)\n",
    "\n",
    "    # Edge detection\n",
    "    edges = cv2.Canny(gray, threshold1=30, threshold2=100)\n",
    "\n",
    "    # Gaussian blur\n",
    "    gaussian = cv2.GaussianBlur(edges, (3,3), 1.3)\n",
    "\n",
    "    # Thresholding\n",
    "    ret, subimage_threshold =  cv2.threshold(gaussian, 0, 255, cv2.THRESH_BINARY_INV | cv2.THRESH_OTSU)\n",
    "\n",
    "    # Find contours\n",
    "    contours, hierarchy = cv2.findContours(edges, cv2.RETR_EXTERNAL, cv2.CHAIN_APPROX_SIMPLE, offset=(x_start,y_start))\n",
    "    # DEBUG contours\n",
    "    # print(\"Detected \"+str(len(contours))+\" contours in \"+str(search_area)+\"*\"+str(search_area)+\" neighborhood of marker \"+part+' in Camera '+cam[-1])\n",
    "    contours_im = [contour-[x_start, y_start] for contour in contours]\n",
    "\n",
    "    # Find closest contour\n",
    "    dist = 1000\n",
    "    best_index = -1\n",
    "    detected_centers = {}\n",
    "    for i in range(len(contours)):\n",
    "        detected_center, circle_radius = cv2.minEnclosingCircle(contours[i])\n",
    "        distTmp = math.sqrt((x_float - detected_center[0])**2 + (y_float - detected_center[1])**2)\n",
    "        detected_centers[round(distTmp, 4)] = detected_center\n",
    "        if distTmp < dist:\n",
    "            best_index = i\n",
    "            dist = distTmp\n",
    "        if best_index >= 0:\n",
    "            detected_center, _ = cv2.minEnclosingCircle(contours[best_index])\n",
    "            detected_center_im, _ = cv2.minEnclosingCircle(contours_im[best_index])\n",
    "    samtools.show_crop(subimage, center=search_area, contours = [contours_im[best_index]], detected_marker = detected_center_im)\n",
    "    samtools.show_crop(gray, center=search_area, contours=contours_im,detected_marker = detected_center_im)\n",
    "    samtools.show_crop(edges, center=search_area, contours=contours_im,detected_marker = detected_center_im)\n",
    "    samtools.show_crop(gaussian, center=search_area, contours = [contours_im[best_index]], detected_marker = detected_center_im)\n",
    "    samtools.show_crop(subimage_threshold, center=search_area, contours = [contours_im[best_index]], detected_marker = detected_center_im)"
   ]
  }
 ],
 "metadata": {
  "kernelspec": {
   "display_name": "Python 3.8.15 ('DEEPLABCUT')",
   "language": "python",
   "name": "python3"
  },
  "language_info": {
   "codemirror_mode": {
    "name": "ipython",
    "version": 3
   },
   "file_extension": ".py",
   "mimetype": "text/x-python",
   "name": "python",
   "nbconvert_exporter": "python",
   "pygments_lexer": "ipython3",
   "version": "3.8.15"
  },
  "orig_nbformat": 4,
  "vscode": {
   "interpreter": {
    "hash": "b2d77e74c0c1ea8a661312cb3f2e1f3a97b4657a36658667e257e38de42be8b6"
   }
  }
 },
 "nbformat": 4,
 "nbformat_minor": 2
}
