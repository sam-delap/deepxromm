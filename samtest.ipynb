{
 "cells": [
  {
   "cell_type": "code",
   "execution_count": 2,
   "metadata": {},
   "outputs": [
    {
     "name": "stdout",
     "output_type": "stream",
     "text": [
      "Created \"C:\\Users\\sjcde\\OneDrive\\Documents\\TestProj\\TestProj-SD-2022-11-30\\videos\"\n",
      "Created \"C:\\Users\\sjcde\\OneDrive\\Documents\\TestProj\\TestProj-SD-2022-11-30\\labeled-data\"\n",
      "Created \"C:\\Users\\sjcde\\OneDrive\\Documents\\TestProj\\TestProj-SD-2022-11-30\\training-datasets\"\n",
      "Created \"C:\\Users\\sjcde\\OneDrive\\Documents\\TestProj\\TestProj-SD-2022-11-30\\dlc-models\"\n",
      "Copying the videos\n",
      "C:\\Users\\sjcde\\OneDrive\\Documents\\TestProj\\TestProj-SD-2022-11-30\\videos\\dummy.avi\n",
      "Generated \"C:\\Users\\sjcde\\OneDrive\\Documents\\TestProj\\TestProj-SD-2022-11-30\\config.yaml\"\n",
      "\n",
      "A new project with name TestProj-SD-2022-11-30 is created at C:\\Users\\sjcde\\OneDrive\\Documents\\TestProj and a configurable file (config.yaml) is stored there. Change the parameters in this file to adapt to your project's needs.\n",
      " Once you have changed the configuration file, use the function 'extract_frames' to select frames for labeling.\n",
      ". [OPTIONAL] Use the function 'add_new_videos' to add new videos to your project (at any stage).\n"
     ]
    }
   ],
   "source": [
    "samtools.create_new_project(working_dir=working_dir, experimenter='SD')"
   ]
  },
  {
   "cell_type": "code",
   "execution_count": 1,
   "metadata": {},
   "outputs": [
    {
     "name": "stdout",
     "output_type": "stream",
     "text": [
      "Loading DLC 2.2.3...\n"
     ]
    },
    {
     "name": "stderr",
     "output_type": "stream",
     "text": [
      "c:\\Users\\sjcde\\.conda\\envs\\DEEPLABCUT\\lib\\site-packages\\deeplabcut\\__init__.py:81: UserWarning: \n",
      "        As PyTorch is not installed, unsupervised identity learning will not be available.\n",
      "        Please run `pip install torch`, or ignore this warning.\n",
      "        \n",
      "  warnings.warn(\n"
     ]
    }
   ],
   "source": [
    "import samtools\n",
    "working_dir = 'C:/Users/sjcde/OneDrive/Documents/TestProj'\n",
    "search_area = 15"
   ]
  },
  {
   "cell_type": "code",
   "execution_count": 6,
   "metadata": {},
   "outputs": [
    {
     "ename": "FileNotFoundError",
     "evalue": "Could not find predicted 2D points file. Please check the it0 folder for trial 22JUL2021_Axo18_t04_c_strikeNchews",
     "output_type": "error",
     "traceback": [
      "\u001b[1;31m---------------------------------------------------------------------------\u001b[0m",
      "\u001b[1;31mFileNotFoundError\u001b[0m                         Traceback (most recent call last)",
      "File \u001b[1;32mc:\\Users\\sjcde\\OneDrive\\Documents\\deadROMM-tools\\samtools.py:148\u001b[0m, in \u001b[0;36mautocorrect\u001b[1;34m(working_dir, likelihood_cutoff, search_area, mask_size, threshold)\u001b[0m\n\u001b[0;32m    147\u001b[0m \u001b[39mtry\u001b[39;00m:\n\u001b[1;32m--> 148\u001b[0m     hdf \u001b[39m=\u001b[39m pd\u001b[39m.\u001b[39;49mread_hdf(new_data_path \u001b[39m+\u001b[39;49m \u001b[39m'\u001b[39;49m\u001b[39m/\u001b[39;49m\u001b[39m'\u001b[39;49m \u001b[39m+\u001b[39;49m trial \u001b[39m+\u001b[39;49m \u001b[39m'\u001b[39;49m\u001b[39m/\u001b[39;49m\u001b[39m'\u001b[39;49m \u001b[39m+\u001b[39;49m \u001b[39m'\u001b[39;49m\u001b[39mit\u001b[39;49m\u001b[39m'\u001b[39;49m \u001b[39m+\u001b[39;49m \u001b[39mstr\u001b[39;49m(iteration) \u001b[39m+\u001b[39;49m \u001b[39m'\u001b[39;49m\u001b[39m/\u001b[39;49m\u001b[39m'\u001b[39;49m \u001b[39m+\u001b[39;49m trial \u001b[39m+\u001b[39;49m \u001b[39m'\u001b[39;49m\u001b[39m-Predicted2DPoints.h5\u001b[39;49m\u001b[39m'\u001b[39;49m)\n\u001b[0;32m    149\u001b[0m \u001b[39mexcept\u001b[39;00m \u001b[39mFileNotFoundError\u001b[39;00m:\n",
      "File \u001b[1;32mc:\\Users\\sjcde\\.conda\\envs\\DEEPLABCUT\\lib\\site-packages\\pandas\\io\\pytables.py:414\u001b[0m, in \u001b[0;36mread_hdf\u001b[1;34m(path_or_buf, key, mode, errors, where, start, stop, columns, iterator, chunksize, **kwargs)\u001b[0m\n\u001b[0;32m    413\u001b[0m \u001b[39mif\u001b[39;00m \u001b[39mnot\u001b[39;00m exists:\n\u001b[1;32m--> 414\u001b[0m     \u001b[39mraise\u001b[39;00m \u001b[39mFileNotFoundError\u001b[39;00m(\u001b[39mf\u001b[39m\u001b[39m\"\u001b[39m\u001b[39mFile \u001b[39m\u001b[39m{\u001b[39;00mpath_or_buf\u001b[39m}\u001b[39;00m\u001b[39m does not exist\u001b[39m\u001b[39m\"\u001b[39m)\n\u001b[0;32m    416\u001b[0m store \u001b[39m=\u001b[39m HDFStore(path_or_buf, mode\u001b[39m=\u001b[39mmode, errors\u001b[39m=\u001b[39merrors, \u001b[39m*\u001b[39m\u001b[39m*\u001b[39mkwargs)\n",
      "\u001b[1;31mFileNotFoundError\u001b[0m: File C:/Users/sjcde/OneDrive/Documents/TestProj\\trials/22JUL2021_Axo18_t04_c_strikeNchews/it0/22JUL2021_Axo18_t04_c_strikeNchews-Predicted2DPoints.h5 does not exist",
      "\nDuring handling of the above exception, another exception occurred:\n",
      "\u001b[1;31mFileNotFoundError\u001b[0m                         Traceback (most recent call last)",
      "Cell \u001b[1;32mIn [6], line 1\u001b[0m\n\u001b[1;32m----> 1\u001b[0m samtools\u001b[39m.\u001b[39;49mautocorrect(working_dir)\n",
      "File \u001b[1;32mc:\\Users\\sjcde\\OneDrive\\Documents\\deadROMM-tools\\samtools.py:150\u001b[0m, in \u001b[0;36mautocorrect\u001b[1;34m(working_dir, likelihood_cutoff, search_area, mask_size, threshold)\u001b[0m\n\u001b[0;32m    148\u001b[0m     hdf \u001b[39m=\u001b[39m pd\u001b[39m.\u001b[39mread_hdf(new_data_path \u001b[39m+\u001b[39m \u001b[39m'\u001b[39m\u001b[39m/\u001b[39m\u001b[39m'\u001b[39m \u001b[39m+\u001b[39m trial \u001b[39m+\u001b[39m \u001b[39m'\u001b[39m\u001b[39m/\u001b[39m\u001b[39m'\u001b[39m \u001b[39m+\u001b[39m \u001b[39m'\u001b[39m\u001b[39mit\u001b[39m\u001b[39m'\u001b[39m \u001b[39m+\u001b[39m \u001b[39mstr\u001b[39m(iteration) \u001b[39m+\u001b[39m \u001b[39m'\u001b[39m\u001b[39m/\u001b[39m\u001b[39m'\u001b[39m \u001b[39m+\u001b[39m trial \u001b[39m+\u001b[39m \u001b[39m'\u001b[39m\u001b[39m-Predicted2DPoints.h5\u001b[39m\u001b[39m'\u001b[39m)\n\u001b[0;32m    149\u001b[0m \u001b[39mexcept\u001b[39;00m \u001b[39mFileNotFoundError\u001b[39;00m:\n\u001b[1;32m--> 150\u001b[0m     \u001b[39mraise\u001b[39;00m \u001b[39mFileNotFoundError\u001b[39;00m(\u001b[39mf\u001b[39m\u001b[39m'\u001b[39m\u001b[39mCould not find predicted 2D points file. Please check the it\u001b[39m\u001b[39m{\u001b[39;00miteration\u001b[39m}\u001b[39;00m\u001b[39m folder for trial \u001b[39m\u001b[39m{\u001b[39;00mtrial\u001b[39m}\u001b[39;00m\u001b[39m'\u001b[39m)\n\u001b[0;32m    152\u001b[0m \u001b[39m# ADD SCORER INFO\u001b[39;00m\n\u001b[0;32m    153\u001b[0m scorer \u001b[39m=\u001b[39m \u001b[39m'\u001b[39m\u001b[39mTEST\u001b[39m\u001b[39m'\u001b[39m\n",
      "\u001b[1;31mFileNotFoundError\u001b[0m: Could not find predicted 2D points file. Please check the it0 folder for trial 22JUL2021_Axo18_t04_c_strikeNchews"
     ]
    }
   ],
   "source": [
    "samtools.autocorrect(working_dir)"
   ]
  }
 ],
 "metadata": {
  "kernelspec": {
   "display_name": "Python 3.8.15 ('DEEPLABCUT')",
   "language": "python",
   "name": "python3"
  },
  "language_info": {
   "codemirror_mode": {
    "name": "ipython",
    "version": 3
   },
   "file_extension": ".py",
   "mimetype": "text/x-python",
   "name": "python",
   "nbconvert_exporter": "python",
   "pygments_lexer": "ipython3",
   "version": "3.8.15"
  },
  "orig_nbformat": 4,
  "vscode": {
   "interpreter": {
    "hash": "b2d77e74c0c1ea8a661312cb3f2e1f3a97b4657a36658667e257e38de42be8b6"
   }
  }
 },
 "nbformat": 4,
 "nbformat_minor": 2
}
