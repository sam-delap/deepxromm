{
 "cells": [
  {
   "cell_type": "code",
   "execution_count": 1,
   "metadata": {},
   "outputs": [
    {
     "name": "stdout",
     "output_type": "stream",
     "text": [
      "Loading DLC 2.2.1.1...\n"
     ]
    },
    {
     "name": "stderr",
     "output_type": "stream",
     "text": [
      "c:\\ProgramData\\Anaconda3\\envs\\DEEPLABCUT\\lib\\site-packages\\statsmodels\\compat\\pandas.py:65: FutureWarning: pandas.Int64Index is deprecated and will be removed from pandas in a future version. Use pandas.Index with the appropriate dtype instead.\n",
      "  from pandas import Int64Index as NumericIndex\n",
      "c:\\ProgramData\\Anaconda3\\envs\\DEEPLABCUT\\lib\\site-packages\\deeplabcut\\__init__.py:81: UserWarning: \n",
      "        As PyTorch is not installed, unsupervised identity learning will not be available.\n",
      "        Please run `pip install torch`, or ignore this warning.\n",
      "        \n",
      "  warnings.warn(\n",
      "c:\\Users\\Samuel_DeLap\\Documents\\DeLap\\deadROMM-tools\\deadROMM_tools.py:100: SyntaxWarning: Default project name in use\n",
      "  warnings.warn('Default project name in use', SyntaxWarning)\n"
     ]
    },
    {
     "ename": "KeyError",
     "evalue": "'test_autocorrect'",
     "output_type": "error",
     "traceback": [
      "\u001b[1;31m---------------------------------------------------------------------------\u001b[0m",
      "\u001b[1;31mKeyError\u001b[0m                                  Traceback (most recent call last)",
      "\u001b[1;32mc:\\Users\\Samuel_DeLap\\Documents\\DeLap\\deadROMM-tools\\jupyter_test_autocorrect.ipynb Cell 1\u001b[0m in \u001b[0;36m<cell line: 4>\u001b[1;34m()\u001b[0m\n\u001b[0;32m      <a href='vscode-notebook-cell:/c%3A/Users/Samuel_DeLap/Documents/DeLap/deadROMM-tools/jupyter_test_autocorrect.ipynb#W3sZmlsZQ%3D%3D?line=0'>1</a>\u001b[0m \u001b[39mimport\u001b[39;00m \u001b[39mdeadROMM_tools\u001b[39;00m\n\u001b[0;32m      <a href='vscode-notebook-cell:/c%3A/Users/Samuel_DeLap/Documents/DeLap/deadROMM-tools/jupyter_test_autocorrect.ipynb#W3sZmlsZQ%3D%3D?line=1'>2</a>\u001b[0m working_dir \u001b[39m=\u001b[39m \u001b[39m'\u001b[39m\u001b[39mD:/DeLap/LF_RGB_Test\u001b[39m\u001b[39m'\u001b[39m\n\u001b[1;32m----> <a href='vscode-notebook-cell:/c%3A/Users/Samuel_DeLap/Documents/DeLap/deadROMM-tools/jupyter_test_autocorrect.ipynb#W3sZmlsZQ%3D%3D?line=3'>4</a>\u001b[0m deadROMM_tools\u001b[39m.\u001b[39;49mautocorrect_trial(working_dir)\n",
      "File \u001b[1;32mc:\\Users\\Samuel_DeLap\\Documents\\DeLap\\deadROMM-tools\\deadROMM_tools.py:240\u001b[0m, in \u001b[0;36mautocorrect_trial\u001b[1;34m(working_dir)\u001b[0m\n\u001b[0;32m    237\u001b[0m     \u001b[39mraise\u001b[39;00m \u001b[39mFileNotFoundError\u001b[39;00m(\u001b[39mf\u001b[39m\u001b[39m'\u001b[39m\u001b[39mCould not find predicted 2D points file. Please check the it\u001b[39m\u001b[39m{\u001b[39;00miteration\u001b[39m}\u001b[39;00m\u001b[39m folder for trial \u001b[39m\u001b[39m{\u001b[39;00mtrial\u001b[39m}\u001b[39;00m\u001b[39m'\u001b[39m) \u001b[39mfrom\u001b[39;00m \u001b[39mNone\u001b[39m\n\u001b[0;32m    238\u001b[0m out_name \u001b[39m=\u001b[39m new_data_path \u001b[39m+\u001b[39m \u001b[39m'\u001b[39m\u001b[39m/\u001b[39m\u001b[39m'\u001b[39m \u001b[39m+\u001b[39m trial \u001b[39m+\u001b[39m \u001b[39m'\u001b[39m\u001b[39m/\u001b[39m\u001b[39m'\u001b[39m \u001b[39m+\u001b[39m \u001b[39m'\u001b[39m\u001b[39mit\u001b[39m\u001b[39m'\u001b[39m \u001b[39m+\u001b[39m \u001b[39mstr\u001b[39m(iteration) \u001b[39m+\u001b[39m \u001b[39m'\u001b[39m\u001b[39m/\u001b[39m\u001b[39m'\u001b[39m \u001b[39m+\u001b[39m trial \u001b[39m+\u001b[39m \u001b[39m'\u001b[39m\u001b[39m-AutoCorrected2DPoints.csv\u001b[39m\u001b[39m'\u001b[39m\n\u001b[1;32m--> 240\u001b[0m \u001b[39mif\u001b[39;00m project[\u001b[39m'\u001b[39;49m\u001b[39mtest_autocorrect\u001b[39;49m\u001b[39m'\u001b[39;49m]:\n\u001b[0;32m    241\u001b[0m     cams \u001b[39m=\u001b[39m [project[\u001b[39m'\u001b[39m\u001b[39mcam\u001b[39m\u001b[39m'\u001b[39m]]\n\u001b[0;32m    242\u001b[0m \u001b[39melse\u001b[39;00m:\n",
      "File \u001b[1;32mc:\\ProgramData\\Anaconda3\\envs\\DEEPLABCUT\\lib\\site-packages\\ruamel\\yaml\\comments.py:927\u001b[0m, in \u001b[0;36mCommentedMap.__getitem__\u001b[1;34m(self, key)\u001b[0m\n\u001b[0;32m    924\u001b[0m \u001b[39mdef\u001b[39;00m \u001b[39m__getitem__\u001b[39m(\u001b[39mself\u001b[39m, key):\n\u001b[0;32m    925\u001b[0m     \u001b[39m# type: (Any) -> Any\u001b[39;00m\n\u001b[0;32m    926\u001b[0m     \u001b[39mtry\u001b[39;00m:\n\u001b[1;32m--> 927\u001b[0m         \u001b[39mreturn\u001b[39;00m ordereddict\u001b[39m.\u001b[39;49m\u001b[39m__getitem__\u001b[39;49m(\u001b[39mself\u001b[39;49m, key)\n\u001b[0;32m    928\u001b[0m     \u001b[39mexcept\u001b[39;00m \u001b[39mKeyError\u001b[39;00m:\n\u001b[0;32m    929\u001b[0m         \u001b[39mfor\u001b[39;00m merged \u001b[39min\u001b[39;00m \u001b[39mgetattr\u001b[39m(\u001b[39mself\u001b[39m, merge_attrib, []):\n",
      "\u001b[1;31mKeyError\u001b[0m: 'test_autocorrect'"
     ]
    }
   ],
   "source": [
    "import deadROMM_tools\n",
    "working_dir = 'D:/DeLap/LF_RGB_Test'\n",
    "\n",
    "deadROMM_tools.autocorrect_trial(working_dir)"
   ]
  },
  {
   "cell_type": "code",
   "execution_count": 1,
   "metadata": {},
   "outputs": [
    {
     "name": "stdout",
     "output_type": "stream",
     "text": [
      "Loading DLC 2.2.1.1...\n"
     ]
    },
    {
     "name": "stderr",
     "output_type": "stream",
     "text": [
      "c:\\ProgramData\\Anaconda3\\envs\\DEEPLABCUT\\lib\\site-packages\\statsmodels\\compat\\pandas.py:65: FutureWarning: pandas.Int64Index is deprecated and will be removed from pandas in a future version. Use pandas.Index with the appropriate dtype instead.\n",
      "  from pandas import Int64Index as NumericIndex\n",
      "c:\\ProgramData\\Anaconda3\\envs\\DEEPLABCUT\\lib\\site-packages\\deeplabcut\\__init__.py:81: UserWarning: \n",
      "        As PyTorch is not installed, unsupervised identity learning will not be available.\n",
      "        Please run `pip install torch`, or ignore this warning.\n",
      "        \n",
      "  warnings.warn(\n",
      "c:\\Users\\Samuel_DeLap\\Documents\\DeLap\\deadROMM-tools\\samtools.py:100: SyntaxWarning: Default project name in use\n",
      "  warnings.warn('Default project name in use', SyntaxWarning)\n",
      "c:\\ProgramData\\Anaconda3\\envs\\DEEPLABCUT\\lib\\site-packages\\pandas\\core\\indexes\\base.py:5055: FutureWarning: Using a non-tuple sequence for multidimensional indexing is deprecated; use `arr[tuple(seq)]` instead of `arr[seq]`. In the future this will be interpreted as an array index, `arr[np.array(seq)]`, which will result either in an error or a different result.\n",
      "  result = getitem(key)\n"
     ]
    },
    {
     "name": "stdout",
     "output_type": "stream",
     "text": [
      "Successfully split DLC format to XMALab 2D points; saved C:/Users/Samuel_DeLap/Documents/DeLap/AxoChewing/trainingdata/22JUL2021_Axo18_t04_c_strikeNchews/it1/22JUL2021_Axo18_t04_c_strikeNchews-Predicted2DPoints.csv\n"
     ]
    }
   ],
   "source": [
    "import samtools\n",
    "working_dir = 'C:/Users/Samuel_DeLap/Documents/DeLap/AxoChewing'\n",
    "project = samtools.load_project(working_dir)\n",
    "trial = '22JUL2021_Axo18_t04_c_strikeNchews'\n",
    "\n",
    "df = samtools.split_dlc_to_xma(project, trial)"
   ]
  },
  {
   "cell_type": "code",
   "execution_count": 5,
   "metadata": {},
   "outputs": [],
   "source": []
  }
 ],
 "metadata": {
  "kernelspec": {
   "display_name": "Python 3.8.8 ('base')",
   "language": "python",
   "name": "python3"
  },
  "language_info": {
   "codemirror_mode": {
    "name": "ipython",
    "version": 3
   },
   "file_extension": ".py",
   "mimetype": "text/x-python",
   "name": "python",
   "nbconvert_exporter": "python",
   "pygments_lexer": "ipython3",
   "version": "3.8.13"
  },
  "orig_nbformat": 4,
  "vscode": {
   "interpreter": {
    "hash": "e595df4329fcf3a3af43d6766bc23e541941e8ce9ea758c4bedfcbd321d7c58e"
   }
  }
 },
 "nbformat": 4,
 "nbformat_minor": 2
}
