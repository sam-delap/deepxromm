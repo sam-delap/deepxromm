{
 "cells": [
  {
   "cell_type": "code",
   "execution_count": 2,
   "metadata": {},
   "outputs": [
    {
     "name": "stderr",
     "output_type": "stream",
     "text": [
      "c:\\Users\\Samuel_DeLap\\Documents\\DeLap\\deadROMM-tools\\deadROMM_tools.py:100: SyntaxWarning: Default project name in use\n",
      "  warnings.warn('Default project name in use', SyntaxWarning)\n",
      "c:\\Users\\Samuel_DeLap\\Documents\\DeLap\\deadROMM-tools\\deadROMM_tools.py:138: UserWarning: Project nframes is less than the recommended 10.0% of the total frames\n",
      "  warnings.warn(f'Project nframes is less than the recommended {tracking_threshold * 100}% of the total frames')\n"
     ]
    },
    {
     "name": "stdout",
     "output_type": "stream",
     "text": [
      "Done! Saving to D:/DeLap/AxoChewing/trials/22JUL2021_Axo18_t04_c_strikeNchews/it1/22JUL2021_Axo18_t04_c_strikeNchews-AutoCorrected2DPoints.csv\n"
     ]
    }
   ],
   "source": [
    "import deadROMM_tools\n",
    "working_dir = 'D:/DeLap/AxoChewing'\n",
    "\n",
    "deadROMM_tools.autocorrect_trial(working_dir)"
   ]
  },
  {
   "cell_type": "code",
   "execution_count": 1,
   "metadata": {},
   "outputs": [
    {
     "name": "stdout",
     "output_type": "stream",
     "text": [
      "Loading DLC 2.2.1.1...\n"
     ]
    },
    {
     "name": "stderr",
     "output_type": "stream",
     "text": [
      "c:\\ProgramData\\Anaconda3\\envs\\DEEPLABCUT\\lib\\site-packages\\statsmodels\\compat\\pandas.py:65: FutureWarning: pandas.Int64Index is deprecated and will be removed from pandas in a future version. Use pandas.Index with the appropriate dtype instead.\n",
      "  from pandas import Int64Index as NumericIndex\n",
      "c:\\ProgramData\\Anaconda3\\envs\\DEEPLABCUT\\lib\\site-packages\\deeplabcut\\__init__.py:81: UserWarning: \n",
      "        As PyTorch is not installed, unsupervised identity learning will not be available.\n",
      "        Please run `pip install torch`, or ignore this warning.\n",
      "        \n",
      "  warnings.warn(\n",
      "c:\\Users\\Samuel_DeLap\\Documents\\DeLap\\deadROMM-tools\\samtools.py:100: SyntaxWarning: Default project name in use\n",
      "  warnings.warn('Default project name in use', SyntaxWarning)\n",
      "c:\\ProgramData\\Anaconda3\\envs\\DEEPLABCUT\\lib\\site-packages\\pandas\\core\\indexes\\base.py:5055: FutureWarning: Using a non-tuple sequence for multidimensional indexing is deprecated; use `arr[tuple(seq)]` instead of `arr[seq]`. In the future this will be interpreted as an array index, `arr[np.array(seq)]`, which will result either in an error or a different result.\n",
      "  result = getitem(key)\n"
     ]
    },
    {
     "name": "stdout",
     "output_type": "stream",
     "text": [
      "Successfully split DLC format to XMALab 2D points; saved C:/Users/Samuel_DeLap/Documents/DeLap/AxoChewing/trainingdata/22JUL2021_Axo18_t04_c_strikeNchews/it1/22JUL2021_Axo18_t04_c_strikeNchews-Predicted2DPoints.csv\n"
     ]
    }
   ],
   "source": [
    "import samtools\n",
    "working_dir = 'C:/Users/Samuel_DeLap/Documents/DeLap/AxoChewing'\n",
    "project = samtools.load_project(working_dir)\n",
    "trial = '22JUL2021_Axo18_t04_c_strikeNchews'\n",
    "\n",
    "df = samtools.split_dlc_to_xma(project, trial)"
   ]
  },
  {
   "cell_type": "code",
   "execution_count": 5,
   "metadata": {},
   "outputs": [],
   "source": []
  }
 ],
 "metadata": {
  "kernelspec": {
   "display_name": "Python 3.8.8 ('base')",
   "language": "python",
   "name": "python3"
  },
  "language_info": {
   "codemirror_mode": {
    "name": "ipython",
    "version": 3
   },
   "file_extension": ".py",
   "mimetype": "text/x-python",
   "name": "python",
   "nbconvert_exporter": "python",
   "pygments_lexer": "ipython3",
   "version": "3.8.13"
  },
  "orig_nbformat": 4,
  "vscode": {
   "interpreter": {
    "hash": "e595df4329fcf3a3af43d6766bc23e541941e8ce9ea758c4bedfcbd321d7c58e"
   }
  }
 },
 "nbformat": 4,
 "nbformat_minor": 2
}
